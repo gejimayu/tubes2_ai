{
 "cells": [
  {
   "cell_type": "markdown",
   "metadata": {},
   "source": [
    "# Tugas Besar 2 Intelijensi Buatan\n",
    "\n",
    "## Prediksi Income per Tahun\n",
    "\n",
    "#### Anggota Kelompok:\n",
    "- Devin Alvaro / 13515062\n",
    "- Stevanno Hero Leadervand / 13515082\n",
    "- Rizki Ihza / 13515104\n",
    "- Gianfranco Fertino Hwandiano / 13515118"
   ]
  },
  {
   "cell_type": "code",
   "execution_count": null,
   "metadata": {},
   "outputs": [],
   "source": [
    "import pandas as pd\n",
    "import numpy as np\n",
    "\n",
    "from sklearn import preprocessing, neighbors, tree\n",
    "from sklearn.externals import joblib\n",
    "from sklearn.metrics import confusion_matrix\n",
    "from sklearn.model_selection import cross_val_score\n",
    "from sklearn.naive_bayes import GaussianNB\n",
    "from sklearn.neural_network import MLPClassifier\n",
    "\n",
    "%matplotlib inline"
   ]
  },
  {
   "cell_type": "markdown",
   "metadata": {},
   "source": [
    "### Membaca dataset"
   ]
  },
  {
   "cell_type": "code",
   "execution_count": null,
   "metadata": {},
   "outputs": [],
   "source": [
    "main_df = pd.read_csv(\"data/CencusIncome.data.txt\", header = None)\n",
    "\n",
    "# name columns\n",
    "main_df = main_df.rename(columns={0: 'age', 1: 'workclass', 2: 'fnlwgt', 3: 'education', 4: 'education-num', 5: 'marital-status', 6: 'occupation',7: 'relationship', 8: 'race',9: 'sex', 10: 'capital-gain', 11: 'capital-loss', 12: 'hours-per-week', 13: 'native-country', 14: 'label'})\n",
    "\n",
    "# remove rows with null values\n",
    "main_df = main_df[main_df['workclass'] != '?']\n",
    "main_df = main_df[main_df['marital-status'] != '?']\n",
    "main_df = main_df[main_df['native-country'] != '?']\n",
    "\n",
    "# remove 'fnlwgt' column\n",
    "main_df = main_df.drop(['fnlwgt'], axis=1)\n",
    "\n",
    "main_df.head(100)"
   ]
  },
  {
   "cell_type": "markdown",
   "metadata": {},
   "source": [
    "### *Preprocessing* dataset"
   ]
  },
  {
   "cell_type": "code",
   "execution_count": null,
   "metadata": {},
   "outputs": [],
   "source": [
    "# le = preprocessing.LabelEncoder()\n",
    "\n",
    "# for column in main_df.columns.values:\n",
    "#     le.fit(main_df[column])\n",
    "#     main_df[column] = le.transform(main_df[column])\n",
    "\n",
    "# y = np.array(main_df['label'])\n",
    "# x = np.array(main_df.drop(['label'], 1))"
   ]
  },
  {
   "cell_type": "code",
   "execution_count": null,
   "metadata": {},
   "outputs": [],
   "source": [
    "main_df = pd.get_dummies(main_df)\n",
    "\n",
    "y = np.array(main_df['label_<=50K'], main_df['label_>50K'])\n",
    "x = np.array(main_df.drop(['label_<=50K', 'label_>50K'], 1))\n",
    "\n",
    "main_df.head(100)"
   ]
  },
  {
   "cell_type": "markdown",
   "metadata": {},
   "source": [
    "## Eksperimen untuk mendapatkan model terbaik"
   ]
  },
  {
   "cell_type": "markdown",
   "metadata": {},
   "source": [
    "### Naive Bayes"
   ]
  },
  {
   "cell_type": "code",
   "execution_count": null,
   "metadata": {
    "scrolled": true
   },
   "outputs": [],
   "source": [
    "gnb = GaussianNB()\n",
    "\n",
    "score = cross_val_score(gnb, x, y, cv=10)"
   ]
  },
  {
   "cell_type": "code",
   "execution_count": null,
   "metadata": {},
   "outputs": [],
   "source": [
    "for i in range(10):\n",
    "    print(\"Fold-\" + str(i + 1) + \":\", \"%0.6f\" % score[i])\n",
    "\n",
    "print()\n",
    "\n",
    "print(\"Mean: %0.6f\" % score.mean())\n",
    "print(\"Accuration: %0.6f (+/- %0.6f)\" % (score.mean(), score.std() * 2))"
   ]
  },
  {
   "cell_type": "markdown",
   "metadata": {},
   "source": [
    "### Decision Tree"
   ]
  },
  {
   "cell_type": "code",
   "execution_count": null,
   "metadata": {},
   "outputs": [],
   "source": [
    "ID3learn = tree.DecisionTreeClassifier(criterion=\"entropy\")\n",
    "\n",
    "score = cross_val_score(ID3learn, x, y, cv=10)"
   ]
  },
  {
   "cell_type": "code",
   "execution_count": null,
   "metadata": {},
   "outputs": [],
   "source": [
    "for i in range(10):\n",
    "    print(\"Fold-\" + str(i + 1) + \":\", \"%0.6f\" % score[i])\n",
    "\n",
    "print()\n",
    "\n",
    "print(\"Mean: %0.6f\" % score.mean())\n",
    "print(\"Accuration: %0.6f (+/- %0.6f)\" % (score.mean(), score.std() * 2))"
   ]
  },
  {
   "cell_type": "markdown",
   "metadata": {},
   "source": [
    "### k-Nearest Neighbors"
   ]
  },
  {
   "cell_type": "code",
   "execution_count": null,
   "metadata": {},
   "outputs": [],
   "source": [
    "n_neighbors = 61\n",
    "\n",
    "KNNlearn = neighbors.KNeighborsClassifier(n_neighbors, weights='uniform')\n",
    "\n",
    "score = cross_val_score(KNNlearn, x, y, cv=10)"
   ]
  },
  {
   "cell_type": "code",
   "execution_count": null,
   "metadata": {},
   "outputs": [],
   "source": [
    "for i in range(10):\n",
    "    print(\"Fold-\" + str(i + 1) + \":\", \"%0.6f\" % score[i])\n",
    "\n",
    "print()\n",
    "\n",
    "print(\"Mean: %0.6f\" % score.mean())\n",
    "print(\"Accuration: %0.6f (+/- %0.6f)\" % (score.mean(), score.std() * 2))"
   ]
  },
  {
   "cell_type": "markdown",
   "metadata": {},
   "source": [
    "### Multilayer Perceptron"
   ]
  },
  {
   "cell_type": "code",
   "execution_count": null,
   "metadata": {},
   "outputs": [],
   "source": [
    "MLPlearn = MLPClassifier(solver='lbfgs',hidden_layer_sizes=(5, 2))\n",
    "\n",
    "score = cross_val_score(MLPlearn, x, y, cv=10)\n",
    "\n",
    "for i in range(10):\n",
    "    print(\"Fold-\" + str(i + 1) + \":\", \"%0.6f\" % score[i])\n",
    "\n",
    "print()\n",
    "\n",
    "print(\"Mean: %0.6f\" % score.mean())\n",
    "print(\"Accuration: %0.2f (+/- %0.6f)\" % (score.mean(), score.std() * 2))"
   ]
  },
  {
   "cell_type": "markdown",
   "metadata": {},
   "source": [
    "### Memilih model terbaik"
   ]
  },
  {
   "cell_type": "code",
   "execution_count": null,
   "metadata": {},
   "outputs": [],
   "source": [
    "KNNlearn = neighbors.KNeighborsClassifier(n_neighbors, weights='uniform')\n",
    "KNNlearn.fit(x, y)"
   ]
  },
  {
   "cell_type": "markdown",
   "metadata": {},
   "source": [
    "### Menyimpan model"
   ]
  },
  {
   "cell_type": "code",
   "execution_count": null,
   "metadata": {},
   "outputs": [],
   "source": [
    "joblib.dump(KNNlearn, 'model/KNN.pkl')"
   ]
  },
  {
   "cell_type": "markdown",
   "metadata": {},
   "source": [
    "### *Loading* model"
   ]
  },
  {
   "cell_type": "code",
   "execution_count": null,
   "metadata": {},
   "outputs": [],
   "source": [
    "KNNlearn = joblib.load('model/KNN.pkl')"
   ]
  },
  {
   "cell_type": "markdown",
   "metadata": {},
   "source": [
    "## Evaluasi dan prediksi dengan model terpilih"
   ]
  },
  {
   "cell_type": "markdown",
   "metadata": {},
   "source": [
    "### Membaca test dataset"
   ]
  },
  {
   "cell_type": "code",
   "execution_count": null,
   "metadata": {
    "scrolled": true
   },
   "outputs": [],
   "source": [
    "test_df = pd.read_csv(\"data/CencusIncome.test.txt\", header=None, skiprows=1)\n",
    "test_df = test_df.rename(columns={0: 'age', 1: 'workclass', 2: 'fnlwgt', 3: 'education', 4: 'education-num', 5: 'marital-status', 6: 'occupation',7: 'relationship', 8: 'race',9: 'sex', 10: 'capital-gain', 11: 'capital-loss', 12: 'hours-per-week', 13: 'native-country', 14: 'label'})\n",
    "test_df = test_df.drop(['fnlwgt'], axis=1)"
   ]
  },
  {
   "cell_type": "markdown",
   "metadata": {},
   "source": [
    "### *Preprocessing* test dataset"
   ]
  },
  {
   "cell_type": "code",
   "execution_count": null,
   "metadata": {},
   "outputs": [],
   "source": [
    "# le = preprocessing.LabelEncoder()\n",
    "\n",
    "# for column in main_df.columns.values:\n",
    "#     le.fit(test_df[column])\n",
    "#     test_df[column] = le.transform(test_df[column])\n",
    "\n",
    "# y = np.array(test_df['label'])\n",
    "# x = np.array(test_df.drop(['label'],1))"
   ]
  },
  {
   "cell_type": "code",
   "execution_count": null,
   "metadata": {},
   "outputs": [],
   "source": [
    "test_df = pd.get_dummies(test_df)\n",
    "\n",
    "y = np.array(test_df['label_<=50K'], test_df['label_>50K'])\n",
    "x = np.array(test_df.drop(['label_<=50K', 'label_>50K'], 1))\n",
    "\n",
    "test_df.head()"
   ]
  },
  {
   "cell_type": "markdown",
   "metadata": {},
   "source": [
    "### Hasil prediksi"
   ]
  },
  {
   "cell_type": "code",
   "execution_count": null,
   "metadata": {},
   "outputs": [],
   "source": [
    "score = KNNlearn.score(x,y)\n",
    "print(\"Accuracy: \", score * 100 ,\"%\")\n",
    "\n",
    "KNNlearn.fit(x, y)\n",
    "y_pred = KNNlearn.predict(x)\n",
    "\n",
    "print(\"Confusion Matrix: \")\n",
    "print(confusion_matrix(y, y_pred))"
   ]
  }
 ],
 "metadata": {
  "kernelspec": {
   "display_name": "Python 3",
   "language": "python",
   "name": "python3"
  },
  "language_info": {
   "codemirror_mode": {
    "name": "ipython",
    "version": 3
   },
   "file_extension": ".py",
   "mimetype": "text/x-python",
   "name": "python",
   "nbconvert_exporter": "python",
   "pygments_lexer": "ipython3",
   "version": "3.6.3"
  }
 },
 "nbformat": 4,
 "nbformat_minor": 2
}
