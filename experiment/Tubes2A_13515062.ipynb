{
 "cells": [
  {
   "cell_type": "code",
   "execution_count": null,
   "metadata": {
    "collapsed": true
   },
   "outputs": [],
   "source": [
    "import pandas as pd\n",
    "import numpy as np\n",
    "\n",
    "from sklearn import preprocessing, tree\n",
    "from sklearn.model_selection import cross_val_score\n",
    "from sklearn.naive_bayes import GaussianNB\n",
    "from sklearn import neighbors\n",
    "\n",
    "%matplotlib inline"
   ]
  },
  {
   "cell_type": "code",
   "execution_count": null,
   "metadata": {
    "collapsed": true
   },
   "outputs": [],
   "source": [
    "main_df = pd.read_csv(\"data/CencusIncome.data.txt\", header = None)\n",
    "main_df = main_df.rename(columns={0: 'age', 1: 'workclass', 2: 'fnlwgt', 3: 'education', 4: 'education-num', 5: 'marital-status', 6: 'occupation',7: 'relationship', 8: 'race',9: 'sex', 10: 'capital-gain', 11: 'capital-loss', 12: 'hours-per-week', 13: 'native-country', 14: 'label'})\n",
    "\n",
    "y = np.array(main_df['label'])\n",
    "x = np.array(main_df.drop(['label'],1))\n",
    "\n",
    "main_df.head()"
   ]
  },
  {
   "cell_type": "code",
   "execution_count": null,
   "metadata": {
    "collapsed": true
   },
   "outputs": [],
   "source": [
    "le = preprocessing.LabelEncoder()\n",
    "\n",
    "for column in main_df.columns.values:\n",
    "    le.fit(main_df[column])\n",
    "    main_df[column] = le.transform(main_df[column])\n",
    "\n",
    "main_df.head()"
   ]
  },
  {
   "cell_type": "code",
   "execution_count": null,
   "metadata": {
    "collapsed": true
   },
   "outputs": [],
   "source": [
    "gnb = GaussianNB()\n",
    "GNBlearn = gnb.fit(x, y)\n",
    "\n",
    "score = cross_val_score(GNBlearn, x, y, cv=10)\n",
    "\n",
    "print()\n",
    "for i in range(10):\n",
    "    print(\"Fold-\" + str(i + 1) + \":\", \"%0.2f\" % score[i])\n",
    "print()\n",
    "print(\"Mean: %0.2f\" % score.mean())\n",
    "print(\"Accuration: %0.2f (+/- %0.2f)\" % (score.mean(), score.std() * 2))"
   ]
  },
  {
   "cell_type": "code",
   "execution_count": null,
   "metadata": {
    "collapsed": true
   },
   "outputs": [],
   "source": [
    "ID3learn = tree.DecisionTreeClassifier(criterion=\"entropy\")\n",
    "ID3learn.fit(x, y)\n",
    "\n",
    "score = cross_val_score(ID3learn, x, y, cv=10)\n",
    "\n",
    "print()\n",
    "for i in range(10):\n",
    "    print(\"Fold-\" + str(i + 1) + \":\", \"%0.2f\" % score[i])\n",
    "print()\n",
    "print(\"Mean: %0.2f\" % score.mean())\n",
    "print(\"Accuration: %0.2f (+/- %0.2f)\" % (score.mean(), score.std() * 2))"
   ]
  },
  {
   "cell_type": "code",
   "execution_count": null,
   "metadata": {
    "collapsed": true
   },
   "outputs": [],
   "source": [
    "n_neighbors = 15\n",
    "\n",
    "KNNlearn = neighbors.KNeighborsClassifier(n_neighbors, weights='uniform')\n",
    "KNNlearn.fit(x, y)\n",
    "\n",
    "score = cross_val_score(KNNlearn, x, y, cv=10)\n",
    "\n",
    "print(\"Kinerja : \")\n",
    "print()\n",
    "for i in range(10):\n",
    "    print(\"Fold-\" + str(i + 1) + \":\", \"%0.2f\" % score[i])\n",
    "print()\n",
    "print(\"Rata-rata: %0.2f\" % score.mean())\n",
    "print(\"Akurasi: %0.2f (+/- %0.2f)\" % (score.mean(), score.std() * 2))"
   ]
  }
 ],
 "metadata": {
  "kernelspec": {
   "display_name": "Python 3",
   "language": "python",
   "name": "python3"
  },
  "language_info": {
   "codemirror_mode": {
    "name": "ipython",
    "version": 3
   },
   "file_extension": ".py",
   "mimetype": "text/x-python",
   "name": "python",
   "nbconvert_exporter": "python",
   "pygments_lexer": "ipython3",
   "version": "3.6.3"
  }
 },
 "nbformat": 4,
 "nbformat_minor": 2
}
