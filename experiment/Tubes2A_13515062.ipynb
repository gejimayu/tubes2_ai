{
 "cells": [
  {
   "cell_type": "code",
   "execution_count": null,
   "metadata": {
    "collapsed": true
   },
   "outputs": [],
   "source": [
    "import pandas as pd\n",
    "import numpy as np\n",
    "\n",
    "from sklearn import preprocessing, tree\n",
    "from sklearn.model_selection import cross_val_score\n",
    "from sklearn.naive_bayes import GaussianNB\n",
    "from sklearn import neighbors\n",
    "from sklearn.neural_network import MLPClassifier\n",
    "\n",
    "%matplotlib inline"
   ]
  },
  {
   "cell_type": "code",
   "execution_count": null,
   "metadata": {},
   "outputs": [],
   "source": [
    "main_df = pd.read_csv(\"data/CencusIncome.data.txt\", header = None)\n",
    "main_df = main_df.rename(columns={0: 'age', 1: 'workclass', 2: 'fnlwgt', 3: 'education', 4: 'education-num', 5: 'marital-status', 6: 'occupation',7: 'relationship', 8: 'race',9: 'sex', 10: 'capital-gain', 11: 'capital-loss', 12: 'hours-per-week', 13: 'native-country', 14: 'label'})\n",
    "\n",
    "main_df = main_df[main_df['workclass'] != '?']\n",
    "main_df = main_df[main_df['marital-status'] != '?']\n",
    "main_df = main_df[main_df['native-country'] != '?']\n",
    "main_df = main_df.drop(['fnlwgt'], axis=1)\n",
    "\n",
    "main_df.head(1000)"
   ]
  },
  {
   "cell_type": "code",
   "execution_count": null,
   "metadata": {
    "collapsed": true
   },
   "outputs": [],
   "source": [
    "le = preprocessing.LabelEncoder()\n",
    "\n",
    "for column in main_df.columns.values:\n",
    "    le.fit(main_df[column])\n",
    "    main_df[column] = le.transform(main_df[column])\n",
    "\n",
    "main_df.head()\n",
    "\n",
    "y = np.array(main_df['label'])\n",
    "x = np.array(main_df.drop(['label'],1))"
   ]
  },
  {
   "cell_type": "code",
   "execution_count": null,
   "metadata": {},
   "outputs": [],
   "source": [
    "gnb = GaussianNB()\n",
    "\n",
    "score = cross_val_score(gnb, x, y, cv=10)\n",
    "\n",
    "print()\n",
    "for i in range(10):\n",
    "    print(\"Fold-\" + str(i + 1) + \":\", \"%0.6f\" % score[i])\n",
    "print()\n",
    "print(\"Mean: %0.6f\" % score.mean())\n",
    "print(\"Accuration: %0.6f (+/- %0.6f)\" % (score.mean(), score.std() * 2))"
   ]
  },
  {
   "cell_type": "code",
   "execution_count": null,
   "metadata": {},
   "outputs": [],
   "source": [
    "ID3learn = tree.DecisionTreeClassifier(criterion=\"entropy\")\n",
    "\n",
    "score = cross_val_score(ID3learn, x, y, cv=10)\n",
    "\n",
    "print()\n",
    "for i in range(10):\n",
    "    print(\"Fold-\" + str(i + 1) + \":\", \"%0.6f\" % score[i])\n",
    "print()\n",
    "print(\"Mean: %0.6f\" % score.mean())\n",
    "print(\"Accuration: %0.6f (+/- %0.6f)\" % (score.mean(), score.std() * 2))"
   ]
  },
  {
   "cell_type": "code",
   "execution_count": null,
   "metadata": {},
   "outputs": [],
   "source": [
    "n_neighbors = 61\n",
    "\n",
    "KNNlearn = neighbors.KNeighborsClassifier(n_neighbors, weights='uniform')\n",
    "\n",
    "score = cross_val_score(KNNlearn, x, y, cv=10)\n",
    "\n",
    "print()\n",
    "for i in range(10):\n",
    "    print(\"Fold-\" + str(i + 1) + \":\", \"%0.6f\" % score[i])\n",
    "print()\n",
    "print(\"Mean: %0.6f\" % score.mean())\n",
    "print(\"Accuration: %0.6f (+/- %0.6f)\" % (score.mean(), score.std() * 2))"
   ]
  },
  {
   "cell_type": "code",
   "execution_count": null,
   "metadata": {},
   "outputs": [],
   "source": [
    "MLPlearn = MLPClassifier(solver='lbfgs',hidden_layer_sizes=(5, 2))\n",
    "\n",
    "score = cross_val_score(MLPlearn, x, y, cv=10)\n",
    "\n",
    "print()\n",
    "for i in range(10):\n",
    "    print(\"Fold-\" + str(i + 1) + \":\", \"%0.6f\" % score[i])\n",
    "print()\n",
    "print(\"Mean: %0.6f\" % score.mean())\n",
    "print(\"Accuration: %0.2f (+/- %0.6f)\" % (score.mean(), score.std() * 2))"
   ]
  },
  {
   "cell_type": "code",
   "execution_count": null,
   "metadata": {},
   "outputs": [],
   "source": [
    "KNNlearn = neighbors.KNeighborsClassifier(n_neighbors, weights='uniform')\n",
    "KNNlearn.fit(x, y)"
   ]
  },
  {
   "cell_type": "code",
   "execution_count": null,
   "metadata": {},
   "outputs": [],
   "source": [
    "from sklearn.externals import joblib\n",
    "\n",
    "joblib.dump(KNNlearn, 'KNN.model')"
   ]
  }
 ],
 "metadata": {
  "kernelspec": {
   "display_name": "Python 3",
   "language": "python",
   "name": "python3"
  },
  "language_info": {
   "codemirror_mode": {
    "name": "ipython",
    "version": 3
   },
   "file_extension": ".py",
   "mimetype": "text/x-python",
   "name": "python",
   "nbconvert_exporter": "python",
   "pygments_lexer": "ipython3",
   "version": "3.6.3"
  }
 },
 "nbformat": 4,
 "nbformat_minor": 2
}
