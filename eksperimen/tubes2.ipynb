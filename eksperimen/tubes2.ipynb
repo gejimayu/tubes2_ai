{
 "cells": [
  {
   "cell_type": "code",
   "execution_count": null,
   "metadata": {},
   "outputs": [],
   "source": [
    "import pandas as pd\n",
    "import sklearn\n",
    "import numpy as np\n",
    "\n",
    "%matplotlib inline\n",
    "\n",
    "main_df = pd.read_csv(\"CencusIncome.data.txt\", header = None)\n",
    "main_df = main_df.rename(columns={0: 'age', 1: 'workclass', 2: 'fnlwgt', 3: 'education', 4: 'education-num', 5: 'marital-status', 6: 'occupation',7: 'relationship', 8: 'race',9: 'sex', 10: 'capital-gain', 11: 'capital-loss', 12: 'hours-per-week', 13: 'native-country', 14: 'label'})\n",
    "\n",
    "\n",
    "from sklearn.model_selection import cross_val_score\n",
    "from sklearn import preprocessing\n",
    "\n",
    "le = preprocessing.LabelEncoder()\n",
    "\n",
    "for column in main_df.columns.values:\n",
    "    le.fit(main_df[column])\n",
    "    main_df[column] = le.transform(main_df[column])\n",
    "\n",
    "y = np.array(main_df['label'])\n",
    "x = np.array(main_df.drop(['label'],1))"
   ]
  },
  {
   "cell_type": "code",
   "execution_count": null,
   "metadata": {},
   "outputs": [],
   "source": [
    "from sklearn.naive_bayes import GaussianNB\n",
    "\n",
    "gnb = GaussianNB()\n",
    "\n",
    "GNBlearn = gnb.fit(x, y)\n",
    "\n",
    "score = cross_val_score(GNBlearn, x, y, cv=10)\n",
    "\n",
    "print()\n",
    "for i in range(10):\n",
    "    print(\"Fold-\" + str(i + 1) + \":\", \"%0.2f\" % score[i])\n",
    "print()\n",
    "print(\"Mean: %0.2f\" % score.mean())\n",
    "print(\"Accuration: %0.2f (+/- %0.2f)\" % (score.mean(), score.std() * 2))"
   ]
  }
 ],
 "metadata": {
  "kernelspec": {
   "display_name": "Python 3",
   "language": "python",
   "name": "python3"
  },
  "language_info": {
   "codemirror_mode": {
    "name": "ipython",
    "version": 3
   },
   "file_extension": ".py",
   "mimetype": "text/x-python",
   "name": "python",
   "nbconvert_exporter": "python",
   "pygments_lexer": "ipython3",
   "version": "3.6.1"
  }
 },
 "nbformat": 4,
 "nbformat_minor": 2
}
